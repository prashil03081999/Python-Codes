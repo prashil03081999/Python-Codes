{
 "cells": [
  {
   "cell_type": "code",
   "execution_count": 2,
   "metadata": {},
   "outputs": [
    {
     "name": "stdout",
     "output_type": "stream",
     "text": [
      "True\n",
      "False\n",
      "False\n",
      "True\n"
     ]
    }
   ],
   "source": [
    "print(True==1)\n",
    "print('1'==1)\n",
    "print(10==10.1)\n",
    "print([]==[])"
   ]
  },
  {
   "cell_type": "code",
   "execution_count": null,
   "metadata": {},
   "outputs": [],
   "source": [
    "#is checks the value stored in the location is equal or not"
   ]
  },
  {
   "cell_type": "code",
   "execution_count": 4,
   "metadata": {},
   "outputs": [
    {
     "name": "stdout",
     "output_type": "stream",
     "text": [
      "False\n",
      "False\n",
      "False\n",
      "False\n"
     ]
    }
   ],
   "source": [
    "print(True is 1)\n",
    "print('1' is 1)\n",
    "print(10 is 10.1)\n",
    "print([] is [])"
   ]
  },
  {
   "cell_type": "code",
   "execution_count": 5,
   "metadata": {},
   "outputs": [
    {
     "name": "stdout",
     "output_type": "stream",
     "text": [
      "False\n"
     ]
    }
   ],
   "source": [
    "print([]is [])        # we get false coz diff list get diff memory location "
   ]
  },
  {
   "cell_type": "code",
   "execution_count": 6,
   "metadata": {},
   "outputs": [
    {
     "name": "stdout",
     "output_type": "stream",
     "text": [
      "True\n"
     ]
    }
   ],
   "source": [
    "print([]==[])"
   ]
  },
  {
   "cell_type": "code",
   "execution_count": 15,
   "metadata": {},
   "outputs": [],
   "source": [
    "# for loop is used to repeat particular code of lines no. of times"
   ]
  },
  {
   "cell_type": "code",
   "execution_count": 16,
   "metadata": {},
   "outputs": [],
   "source": [
    "# alwasys remebr that when writing for loop we can use any  data typ list,tuple.. remember one thing puting : after the loop\n",
    "# otherwise u will suffer the error "
   ]
  },
  {
   "cell_type": "code",
   "execution_count": 2,
   "metadata": {},
   "outputs": [
    {
     "name": "stdout",
     "output_type": "stream",
     "text": [
      "1\n",
      "1\n",
      "1\n",
      "2\n",
      "2\n",
      "2\n",
      "3\n",
      "3\n",
      "3\n",
      "5\n",
      "5\n",
      "5\n",
      "8\n",
      "8\n",
      "8\n",
      "9\n",
      "9\n",
      "9\n",
      "9\n"
     ]
    }
   ],
   "source": [
    "for items in (1,2,3,5,8,9):\n",
    "    print(items)\n",
    "    print(items)\n",
    "    print(items)\n",
    "print(items)                              #due to this line in d o/p we get 4 times 5 "
   ]
  },
  {
   "cell_type": "code",
   "execution_count": 3,
   "metadata": {},
   "outputs": [
    {
     "name": "stdout",
     "output_type": "stream",
     "text": [
      "ram sham ghansham\n"
     ]
    }
   ],
   "source": [
    "for items in {'ram sham ghansham'}:\n",
    "    print(items)"
   ]
  },
  {
   "cell_type": "code",
   "execution_count": 4,
   "metadata": {},
   "outputs": [
    {
     "name": "stdout",
     "output_type": "stream",
     "text": [
      "bosedk\n"
     ]
    }
   ],
   "source": [
    "for items in ['bosedk']:\n",
    "    print(items)"
   ]
  },
  {
   "cell_type": "code",
   "execution_count": 5,
   "metadata": {},
   "outputs": [
    {
     "name": "stdout",
     "output_type": "stream",
     "text": [
      "1 a\n",
      "1 b\n",
      "1 c\n",
      "2 a\n",
      "2 b\n",
      "2 c\n",
      "3 a\n",
      "3 b\n",
      "3 c\n",
      "4 a\n",
      "4 b\n",
      "4 c\n",
      "5 a\n",
      "5 b\n",
      "5 c\n"
     ]
    }
   ],
   "source": [
    "for items in (1,2,3,4,5):\n",
    "    for win in ('a','b','c'):\n",
    "        print(items,win)"
   ]
  },
  {
   "cell_type": "code",
   "execution_count": 6,
   "metadata": {},
   "outputs": [
    {
     "name": "stdout",
     "output_type": "stream",
     "text": [
      "a 1\n",
      "b 1\n",
      "c 1\n",
      "d 1\n",
      "a 2\n",
      "b 2\n",
      "c 2\n",
      "d 2\n",
      "a 3\n",
      "b 3\n",
      "c 3\n",
      "d 3\n",
      "a 4\n",
      "b 4\n",
      "c 4\n",
      "d 4\n",
      "a 5\n",
      "b 5\n",
      "c 5\n",
      "d 5\n"
     ]
    }
   ],
   "source": [
    "for items in (1,2,3,4,5):\n",
    "    for win in ('a','b','c','d'):\n",
    "        print(win,items)"
   ]
  },
  {
   "cell_type": "code",
   "execution_count": 31,
   "metadata": {},
   "outputs": [
    {
     "ename": "SyntaxError",
     "evalue": "invalid syntax (<ipython-input-31-4647eced3999>, line 3)",
     "output_type": "error",
     "traceback": [
      "\u001b[1;36m  File \u001b[1;32m\"<ipython-input-31-4647eced3999>\"\u001b[1;36m, line \u001b[1;32m3\u001b[0m\n\u001b[1;33m    'age':'34'\u001b[0m\n\u001b[1;37m         ^\u001b[0m\n\u001b[1;31mSyntaxError\u001b[0m\u001b[1;31m:\u001b[0m invalid syntax\n"
     ]
    }
   ],
   "source": [
    "user= {\n",
    "    'name':\"roman\"\n",
    "    'age':'34'\n",
    "    'move':'spear'\n",
    "}\n",
    "\n",
    "\n",
    "for item in user:\n",
    "    print(item)"
   ]
  },
  {
   "cell_type": "code",
   "execution_count": 32,
   "metadata": {},
   "outputs": [],
   "source": [
    "# i was getting error since 10 min then i realise that i was not putting the , after values of keys "
   ]
  },
  {
   "cell_type": "code",
   "execution_count": 33,
   "metadata": {},
   "outputs": [
    {
     "name": "stdout",
     "output_type": "stream",
     "text": [
      "name\n",
      "age\n",
      "move\n"
     ]
    }
   ],
   "source": [
    "user= {\n",
    "    'name':\"roman\",\n",
    "    'age':'34',\n",
    "    'move':'spear'\n",
    "}\n",
    "\n",
    "\n",
    "for item in user:\n",
    "    print(item)"
   ]
  },
  {
   "cell_type": "code",
   "execution_count": 40,
   "metadata": {},
   "outputs": [
    {
     "ename": "AttributeError",
     "evalue": "'dict' object has no attribute 'item'",
     "output_type": "error",
     "traceback": [
      "\u001b[1;31m---------------------------------------------------------------------------\u001b[0m",
      "\u001b[1;31mAttributeError\u001b[0m                            Traceback (most recent call last)",
      "\u001b[1;32m<ipython-input-40-28d67594369a>\u001b[0m in \u001b[0;36m<module>\u001b[1;34m\u001b[0m\n\u001b[0;32m      6\u001b[0m \u001b[1;33m\u001b[0m\u001b[0m\n\u001b[0;32m      7\u001b[0m \u001b[1;33m\u001b[0m\u001b[0m\n\u001b[1;32m----> 8\u001b[1;33m \u001b[1;32mfor\u001b[0m \u001b[0mrun\u001b[0m \u001b[1;32min\u001b[0m \u001b[0muser\u001b[0m\u001b[1;33m.\u001b[0m\u001b[0mitem\u001b[0m\u001b[1;33m(\u001b[0m\u001b[1;33m)\u001b[0m\u001b[1;33m:\u001b[0m\u001b[1;33m\u001b[0m\u001b[1;33m\u001b[0m\u001b[0m\n\u001b[0m\u001b[0;32m      9\u001b[0m     \u001b[0mprint\u001b[0m\u001b[1;33m(\u001b[0m\u001b[0mrun\u001b[0m\u001b[1;33m)\u001b[0m\u001b[1;33m\u001b[0m\u001b[1;33m\u001b[0m\u001b[0m\n",
      "\u001b[1;31mAttributeError\u001b[0m: 'dict' object has no attribute 'item'"
     ]
    }
   ],
   "source": [
    "user= {\n",
    "    'name':\"roman\",\n",
    "    'age':'34',\n",
    "    'move':'spear'\n",
    "}\n",
    "\n",
    "\n",
    "for item in user.item():\n",
    "    print(item)"
   ]
  },
  {
   "cell_type": "code",
   "execution_count": 42,
   "metadata": {},
   "outputs": [],
   "source": [
    "# items is used to diplay whole dict"
   ]
  },
  {
   "cell_type": "code",
   "execution_count": 43,
   "metadata": {},
   "outputs": [
    {
     "name": "stdout",
     "output_type": "stream",
     "text": [
      "('name', 'roman')\n",
      "('age', '34')\n",
      "('move', 'spear')\n"
     ]
    }
   ],
   "source": [
    "user= {\n",
    "    'name':\"roman\",\n",
    "    'age':'34',\n",
    "    'move':'spear'\n",
    "}\n",
    "\n",
    "\n",
    "for run in user.items():\n",
    "    print(run)"
   ]
  },
  {
   "cell_type": "code",
   "execution_count": 47,
   "metadata": {},
   "outputs": [],
   "source": [
    "#o/p is coming in the form of tuple to unpack the the tuple "
   ]
  },
  {
   "cell_type": "code",
   "execution_count": 54,
   "metadata": {},
   "outputs": [
    {
     "name": "stdout",
     "output_type": "stream",
     "text": [
      "name roman\n",
      "age 34\n",
      "move spear\n"
     ]
    }
   ],
   "source": [
    "user= {\n",
    "    'name':\"roman\",\n",
    "    'age':'34',\n",
    "    'move':'spear'\n",
    "}\n",
    "\n",
    "\n",
    "for run in user.items():\n",
    "    key,value=run\n",
    "    print(key,value)"
   ]
  },
  {
   "cell_type": "code",
   "execution_count": 55,
   "metadata": {},
   "outputs": [],
   "source": [
    "# another shortcut method to unpack the tuple"
   ]
  },
  {
   "cell_type": "code",
   "execution_count": 57,
   "metadata": {},
   "outputs": [
    {
     "name": "stdout",
     "output_type": "stream",
     "text": [
      "name roman\n",
      "age 34\n",
      "move spear\n"
     ]
    }
   ],
   "source": [
    "user= {\n",
    "    'name':\"roman\",\n",
    "    'age':'34',\n",
    "    'move':'spear'\n",
    "}\n",
    "\n",
    "\n",
    "for  key,value in user.items():\n",
    "   \n",
    "    print(key,value)"
   ]
  },
  {
   "cell_type": "code",
   "execution_count": 44,
   "metadata": {},
   "outputs": [
    {
     "name": "stdout",
     "output_type": "stream",
     "text": [
      "name\n",
      "age\n",
      "move\n"
     ]
    }
   ],
   "source": [
    "user= {\n",
    "    'name':\"roman\",\n",
    "    'age':'34',\n",
    "    'move':'spear'\n",
    "}\n",
    "\n",
    "\n",
    "for run in user.keys():\n",
    "    print(run)"
   ]
  },
  {
   "cell_type": "code",
   "execution_count": 46,
   "metadata": {},
   "outputs": [
    {
     "name": "stdout",
     "output_type": "stream",
     "text": [
      "roman\n",
      "34\n",
      "spear\n"
     ]
    }
   ],
   "source": [
    "user= {\n",
    "    'name':\"roman\",\n",
    "    'age':'34',\n",
    "    'move':'spear'\n",
    "}\n",
    "\n",
    "\n",
    "for run in user.values():\n",
    "    print(run)"
   ]
  },
  {
   "cell_type": "code",
   "execution_count": 61,
   "metadata": {},
   "outputs": [
    {
     "name": "stdout",
     "output_type": "stream",
     "text": [
      "rent 5000\n",
      "drink not_allowed\n",
      "gender both\n"
     ]
    }
   ],
   "source": [
    "owner={\n",
    "    'rent':5000,\n",
    "    'drink':\"not_allowed\",\n",
    "    'gender':\"both\"\n",
    "}\n",
    "for key,value in owner.items():\n",
    "    print(key,value)"
   ]
  },
  {
   "cell_type": "code",
   "execution_count": 63,
   "metadata": {},
   "outputs": [],
   "source": [
    "#  we can use short form of key and value as k and v to unpack the tuple"
   ]
  },
  {
   "cell_type": "code",
   "execution_count": 62,
   "metadata": {},
   "outputs": [
    {
     "name": "stdout",
     "output_type": "stream",
     "text": [
      "rent 5000\n",
      "drink not_allowed\n",
      "gender both\n"
     ]
    }
   ],
   "source": [
    "owner={\n",
    "    'rent':5000,\n",
    "    'drink':\"not_allowed\",\n",
    "    'gender':\"both\"\n",
    "}\n",
    "for k,v in owner.items():\n",
    "    print(k,v)"
   ]
  },
  {
   "cell_type": "code",
   "execution_count": null,
   "metadata": {},
   "outputs": [],
   "source": []
  }
 ],
 "metadata": {
  "kernelspec": {
   "display_name": "Python 3",
   "language": "python",
   "name": "python3"
  },
  "language_info": {
   "codemirror_mode": {
    "name": "ipython",
    "version": 3
   },
   "file_extension": ".py",
   "mimetype": "text/x-python",
   "name": "python",
   "nbconvert_exporter": "python",
   "pygments_lexer": "ipython3",
   "version": "3.7.6"
  }
 },
 "nbformat": 4,
 "nbformat_minor": 4
}
