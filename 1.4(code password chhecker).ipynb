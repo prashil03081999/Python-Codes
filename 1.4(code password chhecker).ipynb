{
 "cells": [
  {
   "cell_type": "code",
   "execution_count": 6,
   "metadata": {},
   "outputs": [
    {
     "name": "stdout",
     "output_type": "stream",
     "text": [
      "what is your usernameprashil\n",
      "what is your passwordsfdghjknbvcx\n",
      "prashil  your password sfdghjknbvcx is 12 is letters long\n"
     ]
    }
   ],
   "source": [
    "username=input(\"what is your username\")\n",
    "password=input(\"what is your password\")\n",
    "print(f\"{username}  your password {password} is {len(password)} is letters long\")"
   ]
  },
  {
   "cell_type": "code",
   "execution_count": 7,
   "metadata": {},
   "outputs": [],
   "source": [
    "# now we dont have to display password it should be like ********* in terms *"
   ]
  },
  {
   "cell_type": "code",
   "execution_count": 9,
   "metadata": {},
   "outputs": [
    {
     "name": "stdout",
     "output_type": "stream",
     "text": [
      "what is your usernameprashil\n",
      "what is your passwordqwertyuiop\n",
      "prashil  your password ********** is 10  letters long\n"
     ]
    }
   ],
   "source": [
    "username=input(\"what is your username\")\n",
    "password=input(\"what is your password\")\n",
    "pasword_length=len(password)\n",
    "password_hide=\"*\"*pasword_length\n",
    "print(f\"{username}  your password {password_hide} is {pasword_length}  letters long\")"
   ]
  },
  {
   "cell_type": "code",
   "execution_count": null,
   "metadata": {},
   "outputs": [],
   "source": []
  }
 ],
 "metadata": {
  "kernelspec": {
   "display_name": "Python 3",
   "language": "python",
   "name": "python3"
  },
  "language_info": {
   "codemirror_mode": {
    "name": "ipython",
    "version": 3
   },
   "file_extension": ".py",
   "mimetype": "text/x-python",
   "name": "python",
   "nbconvert_exporter": "python",
   "pygments_lexer": "ipython3",
   "version": "3.7.6"
  }
 },
 "nbformat": 4,
 "nbformat_minor": 4
}
