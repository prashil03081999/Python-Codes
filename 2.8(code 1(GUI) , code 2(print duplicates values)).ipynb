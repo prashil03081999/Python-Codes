{
 "cells": [
  {
   "cell_type": "code",
   "execution_count": 14,
   "metadata": {},
   "outputs": [],
   "source": [
    "#code1"
   ]
  },
  {
   "cell_type": "code",
   "execution_count": 15,
   "metadata": {},
   "outputs": [],
   "source": [
    "#GUI(GRAPHICAL USER INTERFACE) exercise at the place of o print space and at the place of 1 print *"
   ]
  },
  {
   "cell_type": "code",
   "execution_count": 16,
   "metadata": {},
   "outputs": [
    {
     "ename": "TypeError",
     "evalue": "list indices must be integers or slices, not tuple",
     "output_type": "error",
     "traceback": [
      "\u001b[1;31m---------------------------------------------------------------------------\u001b[0m",
      "\u001b[1;31mTypeError\u001b[0m                                 Traceback (most recent call last)",
      "\u001b[1;32m<ipython-input-16-69f00420a686>\u001b[0m in \u001b[0;36m<module>\u001b[1;34m\u001b[0m\n\u001b[0;32m      1\u001b[0m picture=[\n\u001b[0;32m      2\u001b[0m     \u001b[1;33m[\u001b[0m\u001b[1;36m0\u001b[0m\u001b[1;33m,\u001b[0m\u001b[1;36m0\u001b[0m\u001b[1;33m,\u001b[0m\u001b[1;36m0\u001b[0m\u001b[1;33m,\u001b[0m\u001b[1;36m1\u001b[0m\u001b[1;33m,\u001b[0m\u001b[1;36m0\u001b[0m\u001b[1;33m,\u001b[0m\u001b[1;36m0\u001b[0m\u001b[1;33m,\u001b[0m\u001b[1;36m0\u001b[0m\u001b[1;33m]\u001b[0m\u001b[1;33m\u001b[0m\u001b[1;33m\u001b[0m\u001b[0m\n\u001b[1;32m----> 3\u001b[1;33m     \u001b[1;33m[\u001b[0m\u001b[1;36m0\u001b[0m\u001b[1;33m,\u001b[0m\u001b[1;36m0\u001b[0m\u001b[1;33m,\u001b[0m\u001b[1;36m1\u001b[0m\u001b[1;33m,\u001b[0m\u001b[1;36m1\u001b[0m\u001b[1;33m,\u001b[0m\u001b[1;36m1\u001b[0m\u001b[1;33m,\u001b[0m\u001b[1;36m0\u001b[0m\u001b[1;33m,\u001b[0m\u001b[1;36m0\u001b[0m\u001b[1;33m]\u001b[0m\u001b[1;33m\u001b[0m\u001b[1;33m\u001b[0m\u001b[0m\n\u001b[0m\u001b[0;32m      4\u001b[0m     \u001b[1;33m[\u001b[0m\u001b[1;36m0\u001b[0m\u001b[1;33m,\u001b[0m\u001b[1;36m1\u001b[0m\u001b[1;33m,\u001b[0m\u001b[1;36m1\u001b[0m\u001b[1;33m,\u001b[0m\u001b[1;36m1\u001b[0m\u001b[1;33m,\u001b[0m\u001b[1;36m1\u001b[0m\u001b[1;33m,\u001b[0m\u001b[1;36m1\u001b[0m\u001b[1;33m,\u001b[0m\u001b[1;36m0\u001b[0m\u001b[1;33m]\u001b[0m\u001b[1;33m\u001b[0m\u001b[1;33m\u001b[0m\u001b[0m\n\u001b[0;32m      5\u001b[0m     \u001b[1;33m[\u001b[0m\u001b[1;36m1\u001b[0m\u001b[1;33m,\u001b[0m\u001b[1;36m1\u001b[0m\u001b[1;33m,\u001b[0m\u001b[1;36m1\u001b[0m\u001b[1;33m,\u001b[0m\u001b[1;36m1\u001b[0m\u001b[1;33m,\u001b[0m\u001b[1;36m1\u001b[0m\u001b[1;33m,\u001b[0m\u001b[1;36m1\u001b[0m\u001b[1;33m,\u001b[0m\u001b[1;36m1\u001b[0m\u001b[1;33m]\u001b[0m\u001b[1;33m\u001b[0m\u001b[1;33m\u001b[0m\u001b[0m\n",
      "\u001b[1;31mTypeError\u001b[0m: list indices must be integers or slices, not tuple"
     ]
    }
   ],
   "source": [
    "picture=[\n",
    "    [0,0,0,1,0,0,0]\n",
    "    [0,0,1,1,1,0,0]\n",
    "    [0,1,1,1,1,1,0]\n",
    "    [1,1,1,1,1,1,1]\n",
    "    [0,0,0,1,0,0,0]\n",
    "    [0,0,0,1,0,0,0]\n",
    "]\n"
   ]
  },
  {
   "cell_type": "code",
   "execution_count": 1,
   "metadata": {},
   "outputs": [],
   "source": [
    "picture=[\n",
    "    [0,0,0,1,0,0,0],\n",
    "    [0,0,1,1,1,0,0],\n",
    "    [0,1,1,1,1,1,0],\n",
    "    [1,1,1,1,1,1,1],\n",
    "    [0,0,0,1,0,0,0],\n",
    "    [0,0,0,1,0,0,0]\n",
    "]\n"
   ]
  },
  {
   "cell_type": "code",
   "execution_count": 2,
   "metadata": {},
   "outputs": [],
   "source": [
    "# output coming in the vertical  line coz of /end  "
   ]
  },
  {
   "cell_type": "code",
   "execution_count": 3,
   "metadata": {},
   "outputs": [
    {
     "name": "stdout",
     "output_type": "stream",
     "text": [
      " \n",
      " \n",
      " \n",
      "*\n",
      " \n",
      " \n",
      " \n",
      " \n",
      " \n",
      "*\n",
      "*\n",
      "*\n",
      " \n",
      " \n",
      " \n",
      "*\n",
      "*\n",
      "*\n",
      "*\n",
      "*\n",
      " \n",
      "*\n",
      "*\n",
      "*\n",
      "*\n",
      "*\n",
      "*\n",
      "*\n",
      " \n",
      " \n",
      " \n",
      "*\n",
      " \n",
      " \n",
      " \n",
      " \n",
      " \n",
      " \n",
      "*\n",
      " \n",
      " \n",
      " \n"
     ]
    }
   ],
   "source": [
    "for image in picture:\n",
    "    for pixels in image:\n",
    "        if (pixels==1):\n",
    "            print(\"*\")\n",
    "        else:\n",
    "            print(\" \")"
   ]
  },
  {
   "cell_type": "code",
   "execution_count": 4,
   "metadata": {},
   "outputs": [],
   "source": [
    " # to avoid that verical output we used the end=\"\" so outut will come in horizontal way"
   ]
  },
  {
   "cell_type": "code",
   "execution_count": 5,
   "metadata": {},
   "outputs": [
    {
     "name": "stdout",
     "output_type": "stream",
     "text": [
      "   *     ***   ***** *******   *      *   "
     ]
    }
   ],
   "source": [
    "for image in picture:\n",
    "    for pixels in image:\n",
    "        if (pixels==1):\n",
    "            print(\"*\",end=\"\") # to avoid that verical output we used the end=\"\" so outut will come in horizontal way\n",
    "        else:\n",
    "            print(\" \",end=\"\")"
   ]
  },
  {
   "cell_type": "code",
   "execution_count": 9,
   "metadata": {},
   "outputs": [
    {
     "name": "stdout",
     "output_type": "stream",
     "text": [
      "   *   \n",
      "  ***  \n",
      " ***** \n",
      "*******\n",
      "   *   \n",
      "   *   \n"
     ]
    }
   ],
   "source": [
    "for row in picture:\n",
    "    for pixels in row:\n",
    "        if (pixels==1):\n",
    "            print(\"*\",end=\"\")\n",
    "        else:\n",
    "            print(\" \",end=\"\")\n",
    "    print(\"\")                             # Need a new line after ever row thats why we used print(\"\")"
   ]
  },
  {
   "cell_type": "code",
   "execution_count": 23,
   "metadata": {},
   "outputs": [],
   "source": [
    " # again practice q\n",
    "    "
   ]
  },
  {
   "cell_type": "code",
   "execution_count": 24,
   "metadata": {},
   "outputs": [],
   "source": [
    "photo=[\n",
    "    [0,0,0,0,0,0,0],\n",
    "    [0,0,0,1,0,0,0],\n",
    "    [0,0,0,1,0,0,0],\n",
    "    [0,0,0,1,0,0,0],\n",
    "    [0,0,0,1,0,0,0],\n",
    "    [0,0,0,0,0,0,0]\n",
    "]\n"
   ]
  },
  {
   "cell_type": "code",
   "execution_count": 25,
   "metadata": {},
   "outputs": [],
   "source": [
    "#We can remove the brackets in the if cond since it is nor necessary in python"
   ]
  },
  {
   "cell_type": "code",
   "execution_count": 26,
   "metadata": {},
   "outputs": [
    {
     "name": "stdout",
     "output_type": "stream",
     "text": [
      "*******\n",
      "*** ***\n",
      "*** ***\n",
      "*** ***\n",
      "*** ***\n",
      "*******\n"
     ]
    }
   ],
   "source": [
    "for row in photo:\n",
    "    for pixel in row:\n",
    "        if (pixel==0):\n",
    "            print(\"*\",end=\"\")\n",
    "        else:\n",
    "            print(\" \",end=\"\")\n",
    "    print(\"\")"
   ]
  },
  {
   "cell_type": "code",
   "execution_count": 27,
   "metadata": {},
   "outputs": [],
   "source": [
    "#code2"
   ]
  },
  {
   "cell_type": "code",
   "execution_count": 29,
   "metadata": {},
   "outputs": [],
   "source": [
    "# Check the duplicates in the list (byy using conditions and loops not using the lsit/sets method)"
   ]
  },
  {
   "cell_type": "code",
   "execution_count": 30,
   "metadata": {},
   "outputs": [],
   "source": [
    "the_list=['a','b','c','c','d','e','e','d']"
   ]
  },
  {
   "cell_type": "code",
   "execution_count": 38,
   "metadata": {},
   "outputs": [
    {
     "name": "stdout",
     "output_type": "stream",
     "text": [
      "['c', 'c', 'd', 'e', 'e', 'd']\n"
     ]
    }
   ],
   "source": [
    "duplicates=[]\n",
    "for row in the_list:\n",
    "    if the_list.count(row)>1:\n",
    "            duplicates.append(row)\n",
    "        \n",
    "print(duplicates)\n",
    "    "
   ]
  },
  {
   "cell_type": "code",
   "execution_count": 34,
   "metadata": {},
   "outputs": [],
   "source": [
    "# to remove the duplicates and print it only once "
   ]
  },
  {
   "cell_type": "code",
   "execution_count": 39,
   "metadata": {},
   "outputs": [
    {
     "name": "stdout",
     "output_type": "stream",
     "text": [
      "['c', 'd', 'e']\n"
     ]
    }
   ],
   "source": [
    "duplicates=[]\n",
    "for row in the_list:\n",
    "    if the_list.count(row)>1:\n",
    "        if row not in duplicates:\n",
    "            \n",
    "            duplicates.append(row)\n",
    "        \n",
    "print(duplicates)\n",
    "    "
   ]
  },
  {
   "cell_type": "code",
   "execution_count": null,
   "metadata": {},
   "outputs": [],
   "source": []
  }
 ],
 "metadata": {
  "kernelspec": {
   "display_name": "Python 3",
   "language": "python",
   "name": "python3"
  },
  "language_info": {
   "codemirror_mode": {
    "name": "ipython",
    "version": 3
   },
   "file_extension": ".py",
   "mimetype": "text/x-python",
   "name": "python",
   "nbconvert_exporter": "python",
   "pygments_lexer": "ipython3",
   "version": "3.7.6"
  }
 },
 "nbformat": 4,
 "nbformat_minor": 4
}
