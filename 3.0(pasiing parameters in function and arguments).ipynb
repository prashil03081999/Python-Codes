{
 "cells": [
  {
   "cell_type": "code",
   "execution_count": 1,
   "metadata": {},
   "outputs": [],
   "source": [
    "#parameter are used when we define a function\n",
    "\n",
    "#arguments are used when wee call the function"
   ]
  },
  {
   "cell_type": "code",
   "execution_count": 5,
   "metadata": {},
   "outputs": [
    {
     "name": "stdout",
     "output_type": "stream",
     "text": [
      "Ram is male and in love  with someone\n"
     ]
    }
   ],
   "source": [
    "def character(gender,status):\n",
    "    print(f\"Ram is {gender} and {status} with someone\")\n",
    "character(\"male\", \"in love \")"
   ]
  },
  {
   "cell_type": "code",
   "execution_count": 6,
   "metadata": {},
   "outputs": [
    {
     "name": "stdout",
     "output_type": "stream",
     "text": [
      "Ram is male and in  love  with someone\n",
      "Ram is female and in like with someone\n"
     ]
    }
   ],
   "source": [
    "def character(gender,status):\n",
    "    print(f\"Ram is {gender} and in {status} with someone\")\n",
    "character(\"male\", \" love \")\n",
    "character(\"female\",\"like\")"
   ]
  },
  {
   "cell_type": "code",
   "execution_count": 8,
   "metadata": {},
   "outputs": [
    {
     "name": "stdout",
     "output_type": "stream",
     "text": [
      "kumar work in IT\n",
      "sham work in medical\n",
      "j work in movies\n"
     ]
    }
   ],
   "source": [
    "def work(name,sector):\n",
    "    print(f\"{name} work in {sector}\")\n",
    "work(\"kumar\",\"IT\")\n",
    "work(\"sham\",\"medical\")\n",
    "work(\"j\",\"movies\")"
   ]
  },
  {
   "cell_type": "code",
   "execution_count": 2,
   "metadata": {},
   "outputs": [
    {
     "name": "stdout",
     "output_type": "stream",
     "text": [
      "kumar work in IT\n",
      "sham work in medical\n",
      "j work in movies\n",
      "prashil work in business\n"
     ]
    }
   ],
   "source": [
    "def work(name,sector):\n",
    "    print(f\"{name} work in {sector}\")\n",
    "work(\"kumar\",\"IT\")\n",
    "work(\"sham\",\"medical\")\n",
    "work(\"j\",\"movies\")\n",
    "work(sector=\"business\",name=\"prashil\") # (POAITIONAL ARGUMENT) this is bad practice"
   ]
  },
  {
   "cell_type": "code",
   "execution_count": 4,
   "metadata": {},
   "outputs": [
    {
     "name": "stdout",
     "output_type": "stream",
     "text": [
      "kumar work in IT\n",
      "sham work in medical\n",
      "j work in movies\n",
      "ib work in gamer\n"
     ]
    }
   ],
   "source": [
    "def work(name=\"ib\",sector=\"gamer\"):               #default parameters\n",
    "    print(f\"{name} work in {sector}\")\n",
    "work(\"kumar\",\"IT\")\n",
    "work(\"sham\",\"medical\")\n",
    "work(\"j\",\"movies\")\n",
    "work()              #execution of default argument"
   ]
  },
  {
   "cell_type": "code",
   "execution_count": 5,
   "metadata": {},
   "outputs": [
    {
     "name": "stdout",
     "output_type": "stream",
     "text": [
      "kumar work in IT\n",
      "sham work in medical\n",
      "j work in movies\n",
      "Sarla work in gamer\n"
     ]
    }
   ],
   "source": [
    "def work(name=\"ib\",sector=\"gamer\"):               #default parameters\n",
    "    print(f\"{name} work in {sector}\")\n",
    "work(\"kumar\",\"IT\")\n",
    "work(\"sham\",\"medical\")\n",
    "work(\"j\",\"movies\")\n",
    "work(\"Sarla\")        #execution of default argument first priority of name is given to the argument rather than parameters"
   ]
  },
  {
   "cell_type": "code",
   "execution_count": null,
   "metadata": {},
   "outputs": [],
   "source": []
  }
 ],
 "metadata": {
  "kernelspec": {
   "display_name": "Python 3",
   "language": "python",
   "name": "python3"
  },
  "language_info": {
   "codemirror_mode": {
    "name": "ipython",
    "version": 3
   },
   "file_extension": ".py",
   "mimetype": "text/x-python",
   "name": "python",
   "nbconvert_exporter": "python",
   "pygments_lexer": "ipython3",
   "version": "3.7.6"
  }
 },
 "nbformat": 4,
 "nbformat_minor": 4
}
