{
 "cells": [
  {
   "cell_type": "code",
   "execution_count": 2,
   "metadata": {},
   "outputs": [
    {
     "name": "stdout",
     "output_type": "stream",
     "text": [
      "la ulla dance\n",
      "u r old enough to drive\n"
     ]
    }
   ],
   "source": [
    "Above_18=True\n",
    "under_age=False\n",
    "if Above_18 or under_age:\n",
    "    print(\"la ulla dance\")\n",
    "if under_age:\n",
    "    print(\"u r not allowed to drive the vehicle\")\n",
    "\n",
    "else:\n",
    "    \n",
    "    print(\"u r old enough to drive\")"
   ]
  },
  {
   "cell_type": "code",
   "execution_count": 5,
   "metadata": {},
   "outputs": [
    {
     "name": "stdout",
     "output_type": "stream",
     "text": [
      "la ulla dance\n"
     ]
    }
   ],
   "source": [
    "Above_18=True\n",
    "under_age=False\n",
    "if Above_18 or under_age:\n",
    "    print(\"la ulla dance\")\n",
    "\n",
    "else:\n",
    "    \n",
    "    print(\"u r old enough to drive\")"
   ]
  },
  {
   "cell_type": "code",
   "execution_count": 10,
   "metadata": {},
   "outputs": [
    {
     "name": "stdout",
     "output_type": "stream",
     "text": [
      "u r old enough to drive\n",
      "ook\n"
     ]
    }
   ],
   "source": [
    "Above_18=False\n",
    "under_age=True\n",
    "if Above_18 and under_age:\n",
    "    print(\"la ulla dance\")\n",
    "\n",
    "else:\n",
    "    \n",
    "    print(\"u r old enough to drive\")\n",
    "    print(\"ook\")"
   ]
  },
  {
   "cell_type": "code",
   "execution_count": null,
   "metadata": {},
   "outputs": [],
   "source": []
  }
 ],
 "metadata": {
  "kernelspec": {
   "display_name": "Python 3",
   "language": "python",
   "name": "python3"
  },
  "language_info": {
   "codemirror_mode": {
    "name": "ipython",
    "version": 3
   },
   "file_extension": ".py",
   "mimetype": "text/x-python",
   "name": "python",
   "nbconvert_exporter": "python",
   "pygments_lexer": "ipython3",
   "version": "3.7.6"
  }
 },
 "nbformat": 4,
 "nbformat_minor": 4
}
